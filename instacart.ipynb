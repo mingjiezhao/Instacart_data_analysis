{
 "cells": [
  {
   "cell_type": "code",
   "execution_count": 1,
   "metadata": {},
   "outputs": [],
   "source": [
    "import sqlite3\n",
    "import os\n",
    "import pandas as pd\n",
    "import seaborn as sns\n",
    "import numpy as np\n",
    "import matplotlib.pyplot as plt\n",
    "conn = sqlite3.connect('instacart.db')\n",
    "\n",
    "import plotly.graph_objs as go\n",
    "from plotly.tools import FigureFactory as FF\n",
    "\n",
    "import scipy\n",
    "import statsmodels\n",
    "import statsmodels.api as sm\n",
    "from statsmodels.formula.api import ols"
   ]
  },
  {
   "cell_type": "code",
   "execution_count": 2,
   "metadata": {},
   "outputs": [],
   "source": [
    "def plot_categorical(feature, df,color='lightblue', ro=0):\n",
    "    '''draw plot for categorical variables '''\n",
    "    ax = df[feature].value_counts().plot(kind='bar',\n",
    "                                    figsize=(15,10), \n",
    "                                    color=color)\n",
    "    ax.set_xlabel(feature,fontsize=6)\n",
    "    ax.set_ylabel(\"Count\",fontsize=14)\n",
    "    ax.tick_params(labelsize=12)\n",
    "    for tick in ax.get_xticklabels():\n",
    "        tick.set_rotation(ro)\n",
    "    return"
   ]
  },
  {
   "cell_type": "code",
   "execution_count": 5,
   "metadata": {},
   "outputs": [],
   "source": [
    "aisles=pd.read_csv(\"aisles.csv\")\n",
    "departments=pd.read_csv(\"departments.csv\")\n",
    "order_products=pd.read_csv(\"order_products.csv\")\n",
    "orders=pd.read_csv(\"orders.csv\")\n",
    "products=pd.read_csv(\"products.csv\")\n",
    "users_sampled=pd.read_csv(\"users_sampled.csv\")"
   ]
  },
  {
   "cell_type": "code",
   "execution_count": 6,
   "metadata": {},
   "outputs": [
    {
     "name": "stdout",
     "output_type": "stream",
     "text": [
      "   index  al_id                       aisle\n",
      "0      0      1       prepared soups salads\n",
      "1      1      2           specialty cheeses\n",
      "2      2      3         energy granola bars\n",
      "3      3      4               instant foods\n",
      "4      4      5  marinades meat preparation\n",
      "   index  dt_id       dt\n",
      "0      0      1   frozen\n",
      "1      1      2    other\n",
      "2      2      3   bakery\n",
      "3      3      4  produce\n",
      "4      4      5  alcohol\n",
      "   order_id  prod_id  cart_order  reorder\n",
      "0         2    33120           1        1\n",
      "1         2    28985           2        1\n",
      "2         2     9327           3        0\n",
      "3         2    45918           4        1\n",
      "4         2    30035           5        0\n",
      "   index  prod_id                                          prod_name  al_id  \\\n",
      "0      0        1                         Chocolate Sandwich Cookies     61   \n",
      "1      1        2                                   All-Seasons Salt    104   \n",
      "2      2        3               Robust Golden Unsweetened Oolong Tea     94   \n",
      "3      3        4  Smart Ones Classic Favorites Mini Rigatoni Wit...     38   \n",
      "4      4        5                          Green Chile Anytime Sauce      5   \n",
      "\n",
      "   dt_id  \n",
      "0     19  \n",
      "1     13  \n",
      "2      7  \n",
      "3      1  \n",
      "4     13  \n",
      "   order_id  user_id  order_n  order_dow  order_hr  d_prior\n",
      "0   2168274        2        1          2        11      NaN\n",
      "1   1501582        2        2          5        10     10.0\n",
      "2   1901567        2        3          1        10      3.0\n",
      "3    738281        2        4          2        10      8.0\n",
      "4   1673511        2        5          3        11      8.0\n",
      "   user_id\n",
      "0   187545\n",
      "1    25444\n",
      "2    34867\n",
      "3   172424\n",
      "4   162611\n"
     ]
    }
   ],
   "source": [
    "print(aisles.head())\n",
    "print(departments.head())\n",
    "print(order_products.head())\n",
    "print(products.head())\n",
    "print(orders.head())\n",
    "print(users_sampled.head())"
   ]
  },
  {
   "cell_type": "markdown",
   "metadata": {},
   "source": [
    "### check how many items in each order"
   ]
  },
  {
   "cell_type": "code",
   "execution_count": 8,
   "metadata": {},
   "outputs": [
    {
     "name": "stdout",
     "output_type": "stream",
     "text": [
      "['order_id', 'counts']\n"
     ]
    },
    {
     "data": {
      "text/html": [
       "<div>\n",
       "<style scoped>\n",
       "    .dataframe tbody tr th:only-of-type {\n",
       "        vertical-align: middle;\n",
       "    }\n",
       "\n",
       "    .dataframe tbody tr th {\n",
       "        vertical-align: top;\n",
       "    }\n",
       "\n",
       "    .dataframe thead th {\n",
       "        text-align: right;\n",
       "    }\n",
       "</style>\n",
       "<table border=\"1\" class=\"dataframe\">\n",
       "  <thead>\n",
       "    <tr style=\"text-align: right;\">\n",
       "      <th></th>\n",
       "      <th>order_id</th>\n",
       "      <th>counts</th>\n",
       "    </tr>\n",
       "  </thead>\n",
       "  <tbody>\n",
       "    <tr>\n",
       "      <th>0</th>\n",
       "      <td>2</td>\n",
       "      <td>9</td>\n",
       "    </tr>\n",
       "    <tr>\n",
       "      <th>1</th>\n",
       "      <td>4</td>\n",
       "      <td>13</td>\n",
       "    </tr>\n",
       "    <tr>\n",
       "      <th>2</th>\n",
       "      <td>15</td>\n",
       "      <td>5</td>\n",
       "    </tr>\n",
       "    <tr>\n",
       "      <th>3</th>\n",
       "      <td>19</td>\n",
       "      <td>3</td>\n",
       "    </tr>\n",
       "    <tr>\n",
       "      <th>4</th>\n",
       "      <td>27</td>\n",
       "      <td>27</td>\n",
       "    </tr>\n",
       "  </tbody>\n",
       "</table>\n",
       "</div>"
      ],
      "text/plain": [
       "   order_id  counts\n",
       "0         2       9\n",
       "1         4      13\n",
       "2        15       5\n",
       "3        19       3\n",
       "4        27      27"
      ]
     },
     "execution_count": 8,
     "metadata": {},
     "output_type": "execute_result"
    }
   ],
   "source": [
    "od_prod = order_products[['order_id','prod_id']].groupby('order_id',as_index=False).agg(\"count\").rename(columns={\"prod_id\":\"counts\"})\n",
    "\n",
    "print(list(od_prod.columns))\n",
    "od_prod.head()\n",
    "\n"
   ]
  },
  {
   "cell_type": "code",
   "execution_count": 9,
   "metadata": {},
   "outputs": [
    {
     "data": {
      "image/png": "[encoded data removed]",
      "text/plain": [
       "<Figure size 1080x720 with 1 Axes>"
      ]
     },
     "metadata": {
      "needs_background": "light"
     },
     "output_type": "display_data"
    }
   ],
   "source": [
    "plot_categorical('counts',od_prod, color='lightblue', ro=90)"
   ]
  },
  {
   "cell_type": "code",
   "execution_count": 10,
   "metadata": {},
   "outputs": [
    {
     "data": {
      "text/html": [
       "<div>\n",
       "<style scoped>\n",
       "    .dataframe tbody tr th:only-of-type {\n",
       "        vertical-align: middle;\n",
       "    }\n",
       "\n",
       "    .dataframe tbody tr th {\n",
       "        vertical-align: top;\n",
       "    }\n",
       "\n",
       "    .dataframe thead th {\n",
       "        text-align: right;\n",
       "    }\n",
       "</style>\n",
       "<table border=\"1\" class=\"dataframe\">\n",
       "  <thead>\n",
       "    <tr style=\"text-align: right;\">\n",
       "      <th></th>\n",
       "      <th>order_id</th>\n",
       "      <th>counts</th>\n",
       "      <th>user_id</th>\n",
       "      <th>order_n</th>\n",
       "      <th>order_dow</th>\n",
       "      <th>order_hr</th>\n",
       "      <th>d_prior</th>\n",
       "    </tr>\n",
       "  </thead>\n",
       "  <tbody>\n",
       "    <tr>\n",
       "      <th>0</th>\n",
       "      <td>2</td>\n",
       "      <td>9</td>\n",
       "      <td>202279</td>\n",
       "      <td>3</td>\n",
       "      <td>5</td>\n",
       "      <td>9</td>\n",
       "      <td>8.0</td>\n",
       "    </tr>\n",
       "    <tr>\n",
       "      <th>1</th>\n",
       "      <td>4</td>\n",
       "      <td>13</td>\n",
       "      <td>178520</td>\n",
       "      <td>36</td>\n",
       "      <td>1</td>\n",
       "      <td>9</td>\n",
       "      <td>7.0</td>\n",
       "    </tr>\n",
       "    <tr>\n",
       "      <th>2</th>\n",
       "      <td>15</td>\n",
       "      <td>5</td>\n",
       "      <td>54901</td>\n",
       "      <td>51</td>\n",
       "      <td>3</td>\n",
       "      <td>11</td>\n",
       "      <td>2.0</td>\n",
       "    </tr>\n",
       "    <tr>\n",
       "      <th>3</th>\n",
       "      <td>19</td>\n",
       "      <td>3</td>\n",
       "      <td>83009</td>\n",
       "      <td>7</td>\n",
       "      <td>5</td>\n",
       "      <td>17</td>\n",
       "      <td>13.0</td>\n",
       "    </tr>\n",
       "    <tr>\n",
       "      <th>4</th>\n",
       "      <td>27</td>\n",
       "      <td>27</td>\n",
       "      <td>129389</td>\n",
       "      <td>16</td>\n",
       "      <td>6</td>\n",
       "      <td>20</td>\n",
       "      <td>14.0</td>\n",
       "    </tr>\n",
       "  </tbody>\n",
       "</table>\n",
       "</div>"
      ],
      "text/plain": [
       "   order_id  counts  user_id  order_n  order_dow  order_hr  d_prior\n",
       "0         2       9   202279        3          5         9      8.0\n",
       "1         4      13   178520       36          1         9      7.0\n",
       "2        15       5    54901       51          3        11      2.0\n",
       "3        19       3    83009        7          5        17     13.0\n",
       "4        27      27   129389       16          6        20     14.0"
      ]
     },
     "execution_count": 10,
     "metadata": {},
     "output_type": "execute_result"
    }
   ],
   "source": [
    "df1 =  pd.merge(od_prod, orders)\n",
    "df1.head()"
   ]
  },
  {
   "cell_type": "markdown",
   "metadata": {},
   "source": [
    "### Order sequence number is highly correlated with number of days since last order\n",
    "Insights: Customers tend to shop more frequently when they made more orders\n"
   ]
  },
  {
   "cell_type": "code",
   "execution_count": 11,
   "metadata": {},
   "outputs": [
    {
     "name": "stdout",
     "output_type": "stream",
     "text": [
      "             counts   order_n  order_dow  order_hr   d_prior\n",
      "counts     1.000000 -0.005538  -0.028022 -0.003450  0.057115\n",
      "order_n   -0.005538  1.000000   0.015275 -0.032892 -0.362262\n",
      "order_dow -0.028022  0.015275   1.000000  0.005403 -0.029348\n",
      "order_hr  -0.003450 -0.032892   0.005403  1.000000 -0.002718\n",
      "d_prior    0.057115 -0.362262  -0.029348 -0.002718  1.000000\n"
     ]
    },
    {
     "data": {
      "text/plain": [
       "<matplotlib.axes._subplots.AxesSubplot at 0x1b52a1c55f8>"
      ]
     },
     "execution_count": 11,
     "metadata": {},
     "output_type": "execute_result"
    },
    {
     "data": {
      "image/png": "[encoded data removed]",
      "text/plain": [
       "<Figure size 792x648 with 2 Axes>"
      ]
     },
     "metadata": {},
     "output_type": "display_data"
    }
   ],
   "source": [
    "df1_1 = df1.copy().drop(['order_id',\"user_id\"], axis=1)\n",
    "print(df1_1.corr())\n",
    "sns.set(style=\"white\")\n",
    "\n",
    "# Generate a large random dataset\n",
    "rs = np.random.RandomState(33)\n",
    "d = df1_1\n",
    "# Compute the correlation matrix\n",
    "corr = d.corr()\n",
    "\n",
    "# Generate a mask for the upper triangle\n",
    "mask = np.zeros_like(corr, dtype=np.bool)\n",
    "mask[np.triu_indices_from(mask)] = True\n",
    "\n",
    "# Set up the matplotlib figure\n",
    "f, ax = plt.subplots(figsize=(11, 9))\n",
    "plt.title(\"Correlation Plot\")\n",
    "\n",
    "# Generate a custom diverging colormap\n",
    "cmap = sns.diverging_palette(220, 10, as_cmap=True)\n",
    "\n",
    "# Draw the heatmap with the mask and correct aspect ratio\n",
    "sns.heatmap(corr, mask=mask, cmap=cmap, vmax=0.2, vmin= -0.8,center=0,\n",
    "            square=True, linewidths=.5, cbar_kws={\"shrink\": .5})"
   ]
  },
  {
   "cell_type": "markdown",
   "metadata": {},
   "source": [
    "### Exploration of new vs existed customers"
   ]
  },
  {
   "cell_type": "code",
   "execution_count": 12,
   "metadata": {},
   "outputs": [
    {
     "data": {
      "text/html": [
       "<div>\n",
       "<style scoped>\n",
       "    .dataframe tbody tr th:only-of-type {\n",
       "        vertical-align: middle;\n",
       "    }\n",
       "\n",
       "    .dataframe tbody tr th {\n",
       "        vertical-align: top;\n",
       "    }\n",
       "\n",
       "    .dataframe thead th {\n",
       "        text-align: right;\n",
       "    }\n",
       "</style>\n",
       "<table border=\"1\" class=\"dataframe\">\n",
       "  <thead>\n",
       "    <tr style=\"text-align: right;\">\n",
       "      <th></th>\n",
       "      <th>counts</th>\n",
       "      <th>order_n</th>\n",
       "      <th>order_dow</th>\n",
       "      <th>order_hr</th>\n",
       "      <th>d_prior</th>\n",
       "      <th>new_c</th>\n",
       "    </tr>\n",
       "  </thead>\n",
       "  <tbody>\n",
       "    <tr>\n",
       "      <th>0</th>\n",
       "      <td>9</td>\n",
       "      <td>3</td>\n",
       "      <td>5</td>\n",
       "      <td>9</td>\n",
       "      <td>8.0</td>\n",
       "      <td>old</td>\n",
       "    </tr>\n",
       "    <tr>\n",
       "      <th>1</th>\n",
       "      <td>13</td>\n",
       "      <td>36</td>\n",
       "      <td>1</td>\n",
       "      <td>9</td>\n",
       "      <td>7.0</td>\n",
       "      <td>old</td>\n",
       "    </tr>\n",
       "    <tr>\n",
       "      <th>2</th>\n",
       "      <td>5</td>\n",
       "      <td>51</td>\n",
       "      <td>3</td>\n",
       "      <td>11</td>\n",
       "      <td>2.0</td>\n",
       "      <td>old</td>\n",
       "    </tr>\n",
       "    <tr>\n",
       "      <th>3</th>\n",
       "      <td>3</td>\n",
       "      <td>7</td>\n",
       "      <td>5</td>\n",
       "      <td>17</td>\n",
       "      <td>13.0</td>\n",
       "      <td>old</td>\n",
       "    </tr>\n",
       "    <tr>\n",
       "      <th>4</th>\n",
       "      <td>27</td>\n",
       "      <td>16</td>\n",
       "      <td>6</td>\n",
       "      <td>20</td>\n",
       "      <td>14.0</td>\n",
       "      <td>old</td>\n",
       "    </tr>\n",
       "  </tbody>\n",
       "</table>\n",
       "</div>"
      ],
      "text/plain": [
       "   counts  order_n  order_dow  order_hr  d_prior new_c\n",
       "0       9        3          5         9      8.0   old\n",
       "1      13       36          1         9      7.0   old\n",
       "2       5       51          3        11      2.0   old\n",
       "3       3        7          5        17     13.0   old\n",
       "4      27       16          6        20     14.0   old"
      ]
     },
     "execution_count": 12,
     "metadata": {},
     "output_type": "execute_result"
    }
   ],
   "source": [
    "# create lables for new vs existed customers\n",
    "\n",
    "df1_1.order_n.describe()\n",
    "df1_1['new_c'] = np.where(df1_1.order_n==1,'new','old')\n",
    "df1_1.head()"
   ]
  },
  {
   "cell_type": "code",
   "execution_count": 13,
   "metadata": {},
   "outputs": [],
   "source": [
    "df2 =  pd.merge(order_products, products)"
   ]
  },
  {
   "cell_type": "code",
   "execution_count": 14,
   "metadata": {},
   "outputs": [
    {
     "data": {
      "text/html": [
       "<div>\n",
       "<style scoped>\n",
       "    .dataframe tbody tr th:only-of-type {\n",
       "        vertical-align: middle;\n",
       "    }\n",
       "\n",
       "    .dataframe tbody tr th {\n",
       "        vertical-align: top;\n",
       "    }\n",
       "\n",
       "    .dataframe thead th {\n",
       "        text-align: right;\n",
       "    }\n",
       "</style>\n",
       "<table border=\"1\" class=\"dataframe\">\n",
       "  <thead>\n",
       "    <tr style=\"text-align: right;\">\n",
       "      <th></th>\n",
       "      <th>order_id</th>\n",
       "      <th>prod_id</th>\n",
       "      <th>cart_order</th>\n",
       "      <th>reorder</th>\n",
       "      <th>index</th>\n",
       "      <th>prod_name</th>\n",
       "      <th>al_id</th>\n",
       "      <th>dt_id</th>\n",
       "    </tr>\n",
       "  </thead>\n",
       "  <tbody>\n",
       "    <tr>\n",
       "      <th>0</th>\n",
       "      <td>2</td>\n",
       "      <td>33120</td>\n",
       "      <td>1</td>\n",
       "      <td>1</td>\n",
       "      <td>33119</td>\n",
       "      <td>Organic Egg Whites</td>\n",
       "      <td>86</td>\n",
       "      <td>16</td>\n",
       "    </tr>\n",
       "    <tr>\n",
       "      <th>1</th>\n",
       "      <td>390</td>\n",
       "      <td>33120</td>\n",
       "      <td>28</td>\n",
       "      <td>1</td>\n",
       "      <td>33119</td>\n",
       "      <td>Organic Egg Whites</td>\n",
       "      <td>86</td>\n",
       "      <td>16</td>\n",
       "    </tr>\n",
       "    <tr>\n",
       "      <th>2</th>\n",
       "      <td>1097</td>\n",
       "      <td>33120</td>\n",
       "      <td>14</td>\n",
       "      <td>1</td>\n",
       "      <td>33119</td>\n",
       "      <td>Organic Egg Whites</td>\n",
       "      <td>86</td>\n",
       "      <td>16</td>\n",
       "    </tr>\n",
       "    <tr>\n",
       "      <th>3</th>\n",
       "      <td>1887</td>\n",
       "      <td>33120</td>\n",
       "      <td>6</td>\n",
       "      <td>1</td>\n",
       "      <td>33119</td>\n",
       "      <td>Organic Egg Whites</td>\n",
       "      <td>86</td>\n",
       "      <td>16</td>\n",
       "    </tr>\n",
       "    <tr>\n",
       "      <th>4</th>\n",
       "      <td>3304</td>\n",
       "      <td>33120</td>\n",
       "      <td>4</td>\n",
       "      <td>1</td>\n",
       "      <td>33119</td>\n",
       "      <td>Organic Egg Whites</td>\n",
       "      <td>86</td>\n",
       "      <td>16</td>\n",
       "    </tr>\n",
       "  </tbody>\n",
       "</table>\n",
       "</div>"
      ],
      "text/plain": [
       "   order_id  prod_id  cart_order  reorder  index           prod_name  al_id  \\\n",
       "0         2    33120           1        1  33119  Organic Egg Whites     86   \n",
       "1       390    33120          28        1  33119  Organic Egg Whites     86   \n",
       "2      1097    33120          14        1  33119  Organic Egg Whites     86   \n",
       "3      1887    33120           6        1  33119  Organic Egg Whites     86   \n",
       "4      3304    33120           4        1  33119  Organic Egg Whites     86   \n",
       "\n",
       "   dt_id  \n",
       "0     16  \n",
       "1     16  \n",
       "2     16  \n",
       "3     16  \n",
       "4     16  "
      ]
     },
     "execution_count": 14,
     "metadata": {},
     "output_type": "execute_result"
    }
   ],
   "source": [
    "df2.head()"
   ]
  },
  {
   "cell_type": "markdown",
   "metadata": {},
   "source": [
    "#### When do people order?"
   ]
  },
  {
   "cell_type": "code",
   "execution_count": 94,
   "metadata": {},
   "outputs": [
    {
     "data": {
      "text/plain": [
       "count    389772.000000\n",
       "mean          2.771492\n",
       "std           2.041655\n",
       "min           0.000000\n",
       "25%           1.000000\n",
       "50%           3.000000\n",
       "75%           5.000000\n",
       "max           6.000000\n",
       "Name: order_dow, dtype: float64"
      ]
     },
     "execution_count": 94,
     "metadata": {},
     "output_type": "execute_result"
    }
   ],
   "source": [
    "df1_1.order_dow.describe()"
   ]
  },
  {
   "cell_type": "code",
   "execution_count": 93,
   "metadata": {},
   "outputs": [
    {
     "data": {
      "image/png": "[encoded data removed]",
      "text/plain": [
       "<Figure size 720x576 with 1 Axes>"
      ]
     },
     "metadata": {},
     "output_type": "display_data"
    }
   ],
   "source": [
    "fig, (ax1) = plt.subplots(ncols=1, figsize=(10, 8))\n",
    "ax1.set_title('the day of the week the order was placed on')\n",
    "plt.hist(df1_1.order_dow,rwidth=0.9)\n",
    "\n",
    "pass"
   ]
  },
  {
   "cell_type": "code",
   "execution_count": 95,
   "metadata": {},
   "outputs": [
    {
     "data": {
      "image/png": "[encoded data removed]",
      "text/plain": [
       "<Figure size 720x576 with 1 Axes>"
      ]
     },
     "metadata": {},
     "output_type": "display_data"
    }
   ],
   "source": [
    "fig, (ax1) = plt.subplots(ncols=1, figsize=(10, 8))\n",
    "ax1.set_title('hour of day the order was placed')\n",
    "plt.hist(df1_1.order_hr,rwidth=0.9)\n",
    "\n",
    "pass"
   ]
  },
  {
   "cell_type": "markdown",
   "metadata": {},
   "source": [
    "#### When do they order again?"
   ]
  },
  {
   "cell_type": "code",
   "execution_count": 68,
   "metadata": {},
   "outputs": [
    {
     "data": {
      "image/png": "[encoded data removed]",
      "text/plain": [
       "<Figure size 720x576 with 1 Axes>"
      ]
     },
     "metadata": {},
     "output_type": "display_data"
    }
   ],
   "source": [
    "fig, (ax1) = plt.subplots(ncols=1, figsize=(10, 8))\n",
    "ax1.set_title('number of days since the last order')\n",
    "plt.hist(df1_1.d_prior,rwidth=0.9)\n",
    "\n",
    "pass"
   ]
  },
  {
   "cell_type": "code",
   "execution_count": 17,
   "metadata": {},
   "outputs": [
    {
     "data": {
      "image/png": "[encoded data removed]",
      "text/plain": [
       "<Figure size 576x288 with 2 Axes>"
      ]
     },
     "metadata": {},
     "output_type": "display_data"
    }
   ],
   "source": [
    "fig1,axes1=plt.subplots(1,2,figsize=(8,4))\n",
    "fig1.suptitle(\"Histograms of counts and last order days\")\n",
    "\n",
    "axes1[0].hist(df1_1.counts,rwidth=0.9)\n",
    "axes1[0].set_yscale(\"log\")\n",
    "axes1[0].set_xlabel(\"counts\")\n",
    "axes1[1].hist(df1_1.d_prior )\n",
    "# axes1[1].set_xticks([0,1])\n",
    "axes1[1].set_xlabel(\"d_prior\")\n",
    "\n",
    "pass"
   ]
  },
  {
   "cell_type": "markdown",
   "metadata": {},
   "source": [
    "#### No significant patterns between cart order and reorder"
   ]
  },
  {
   "cell_type": "code",
   "execution_count": 78,
   "metadata": {},
   "outputs": [
    {
     "data": {
      "text/plain": [
       "<matplotlib.axes._subplots.AxesSubplot at 0x19d94a8a780>"
      ]
     },
     "execution_count": 78,
     "metadata": {},
     "output_type": "execute_result"
    },
    {
     "data": {
      "image/png": "[encoded data removed]",
      "text/plain": [
       "<Figure size 432x288 with 1 Axes>"
      ]
     },
     "metadata": {},
     "output_type": "display_data"
    }
   ],
   "source": [
    "order_products.plot(x='cart-order', y='reorder', style='o')"
   ]
  },
  {
   "cell_type": "markdown",
   "metadata": {},
   "source": [
    "### New customer vs old customer"
   ]
  },
  {
   "cell_type": "code",
   "execution_count": 20,
   "metadata": {},
   "outputs": [
    {
     "name": "stdout",
     "output_type": "stream",
     "text": [
      "    counts  order_n  order_dow  order_hr  d_prior new_c\n",
      "10      10        1          0        11      NaN   new\n",
      "11      14        1          0        15      NaN   new\n",
      "31       1        1          5        18      NaN   new\n",
      "37      16        1          0        11      NaN   new\n",
      "38       6        1          1        15      NaN   new\n",
      "   counts  order_n  order_dow  order_hr  d_prior new_c\n",
      "0       9        3          5         9      8.0   old\n",
      "1      13       36          1         9      7.0   old\n",
      "2       5       51          3        11      2.0   old\n",
      "3       3        7          5        17     13.0   old\n",
      "4      27       16          6        20     14.0   old\n"
     ]
    }
   ],
   "source": [
    "tt= df1_1.new_c== 'new'\n",
    "new = df1_1[tt]\n",
    "print(new.head())\n",
    "\n",
    "old = df1_1[-tt]\n",
    "print(old.head())"
   ]
  },
  {
   "cell_type": "code",
   "execution_count": 21,
   "metadata": {},
   "outputs": [
    {
     "data": {
      "image/png": "[encoded data removed]",
      "text/plain": [
       "<Figure size 576x288 with 2 Axes>"
      ]
     },
     "metadata": {},
     "output_type": "display_data"
    }
   ],
   "source": [
    "fig1,axes1=plt.subplots(1,2,figsize=(8,4))\n",
    "fig1.suptitle(\"Histograms of the day of the week the order was placed on\")\n",
    "\n",
    "axes1[0].hist(new.order_dow,rwidth=0.9)\n",
    "\n",
    "axes1[0].set_xlabel(\"new customer group\")\n",
    "axes1[1].hist(old.order_dow )\n",
    "\n",
    "axes1[1].set_xlabel(\"old customer group\")\n",
    "\n",
    "pass"
   ]
  },
  {
   "cell_type": "code",
   "execution_count": 22,
   "metadata": {},
   "outputs": [
    {
     "data": {
      "image/png": "[encoded data removed]",
      "text/plain": [
       "<Figure size 576x288 with 2 Axes>"
      ]
     },
     "metadata": {},
     "output_type": "display_data"
    }
   ],
   "source": [
    "fig1,axes1=plt.subplots(1,2,figsize=(8,4))\n",
    "fig1.suptitle(\"Histograms of the day of the week the order was placed on\")\n",
    "\n",
    "axes1[0].hist(new.order_hr,rwidth=0.9)\n",
    "\n",
    "axes1[0].set_xlabel(\"new customer group\")\n",
    "axes1[1].hist(old.order_hr )\n",
    "\n",
    "axes1[1].set_xlabel(\"old customer group\")\n",
    "\n",
    "pass"
   ]
  },
  {
   "cell_type": "code",
   "execution_count": 23,
   "metadata": {
    "scrolled": true
   },
   "outputs": [
    {
     "data": {
      "image/png": "[encoded data removed]",
      "text/plain": [
       "<Figure size 576x288 with 2 Axes>"
      ]
     },
     "metadata": {},
     "output_type": "display_data"
    }
   ],
   "source": [
    "fig1,axes1=plt.subplots(1,2,figsize=(8,4))\n",
    "fig1.suptitle(\"Histograms of the product counts per order\")\n",
    "\n",
    "axes1[0].hist(new.counts,rwidth=0.9)\n",
    "axes1[0].set_yscale(\"log\")\n",
    "axes1[0].set_xlabel(\"new customer group\")\n",
    "axes1[1].hist(old.counts )\n",
    "\n",
    "axes1[1].set_yscale(\"log\")\n",
    "axes1[1].set_xlabel(\"old customer group\")\n",
    "\n",
    "pass"
   ]
  },
  {
   "cell_type": "markdown",
   "metadata": {},
   "source": [
    "### Comparison with side-by-Side histograms"
   ]
  },
  {
   "cell_type": "code",
   "execution_count": 148,
   "metadata": {},
   "outputs": [
    {
     "data": {
      "text/plain": [
       "Text(0.5, 1.0, 'Side-by-Side Histogram with customer groups')"
      ]
     },
     "execution_count": 148,
     "metadata": {},
     "output_type": "execute_result"
    },
    {
     "data": {
      "image/png": "[encoded data removed]",
      "text/plain": [
       "<Figure size 432x288 with 1 Axes>"
      ]
     },
     "metadata": {},
     "output_type": "display_data"
    }
   ],
   "source": [
    "\n",
    "\n",
    "x1 = list(df1_1[df1_1['new_c'] == 'new']['counts'])\n",
    "x2 = list(df1_1[df1_1['new_c'] == 'old']['counts'])\n",
    "\n",
    "# Assign colors\n",
    "colors = ['#E69F00', '#56B4E9']\n",
    "names = ['new customer group', 'old customer group']\n",
    "         \n",
    "# Make the histogram using a list of lists\n",
    "\n",
    "plt.hist([x1, x2], bins = int(180/15), normed=True,\n",
    "         color = colors, label=names)\n",
    "\n",
    "# Plot formatting\n",
    "plt.legend()\n",
    "plt.yscale('log')\n",
    "plt.xlabel('product counts per order')\n",
    "plt.ylabel('Normalized Counts')\n",
    "plt.title('Side-by-Side Histogram with customer groups')"
   ]
  },
  {
   "cell_type": "code",
   "execution_count": 24,
   "metadata": {},
   "outputs": [
    {
     "name": "stderr",
     "output_type": "stream",
     "text": [
      "C:\\Users\\Mingjie\\AppData\\Roaming\\Python\\Python36\\site-packages\\matplotlib\\axes\\_axes.py:6521: MatplotlibDeprecationWarning:\n",
      "\n",
      "\n",
      "The 'normed' kwarg was deprecated in Matplotlib 2.1 and will be removed in 3.1. Use 'density' instead.\n",
      "\n"
     ]
    },
    {
     "data": {
      "text/plain": [
       "Text(0.5, 1.0, 'Side-by-Side Histogram with customer groups')"
      ]
     },
     "execution_count": 24,
     "metadata": {},
     "output_type": "execute_result"
    },
    {
     "data": {
      "image/png": "[encoded data removed]",
      "text/plain": [
       "<Figure size 432x288 with 1 Axes>"
      ]
     },
     "metadata": {},
     "output_type": "display_data"
    }
   ],
   "source": [
    "x1 = list(df1_1[df1_1['new_c'] == 'new']['order_dow'])\n",
    "x2 = list(df1_1[df1_1['new_c'] == 'old']['order_dow'])\n",
    "\n",
    "# Assign colors \n",
    "colors = ['#E69F00', '#56B4E9']\n",
    "names = ['new customer group', 'old customer group']\n",
    "         \n",
    "# Make the histogram using a list of lists\n",
    "\n",
    "plt.hist([x1, x2], bins = int(180/15), normed=True,\n",
    "         color = colors, label=names)\n",
    "\n",
    "# Plot formatting\n",
    "plt.legend()\n",
    "plt.xlabel('order days')\n",
    "plt.ylabel('Normalized Counts')\n",
    "plt.title('Side-by-Side Histogram with customer groups')"
   ]
  },
  {
   "cell_type": "code",
   "execution_count": 25,
   "metadata": {},
   "outputs": [
    {
     "data": {
      "text/plain": [
       "Text(0.5, 1.0, 'Side-by-Side Histogram with customer groups')"
      ]
     },
     "execution_count": 25,
     "metadata": {},
     "output_type": "execute_result"
    },
    {
     "data": {
      "image/png": "[encoded data removed]",
      "text/plain": [
       "<Figure size 432x288 with 1 Axes>"
      ]
     },
     "metadata": {},
     "output_type": "display_data"
    }
   ],
   "source": [
    "x1 = list(df1_1[df1_1['new_c'] == 'new']['order_hr'])\n",
    "x2 = list(df1_1[df1_1['new_c'] == 'old']['order_hr'])\n",
    "\n",
    "# Assign colors \n",
    "colors = ['#E69F00', '#56B4E9']\n",
    "names = ['new customer group', 'old customer group']\n",
    "         \n",
    "# Make the histogram using a list of lists\n",
    "\n",
    "plt.hist([x1, x2], bins = int(180/15), normed=True,\n",
    "         color = colors, label=names)\n",
    "\n",
    "# Plot formatting\n",
    "plt.legend()\n",
    "plt.xlabel('order hour')\n",
    "plt.ylabel('Normalized Counts')\n",
    "plt.title('Side-by-Side Histogram with customer groups')"
   ]
  },
  {
   "cell_type": "markdown",
   "metadata": {},
   "source": [
    "### what do people put in the cart first"
   ]
  },
  {
   "cell_type": "code",
   "execution_count": 161,
   "metadata": {},
   "outputs": [
    {
     "data": {
      "text/html": [
       "<div>\n",
       "<style scoped>\n",
       "    .dataframe tbody tr th:only-of-type {\n",
       "        vertical-align: middle;\n",
       "    }\n",
       "\n",
       "    .dataframe tbody tr th {\n",
       "        vertical-align: top;\n",
       "    }\n",
       "\n",
       "    .dataframe thead th {\n",
       "        text-align: right;\n",
       "    }\n",
       "</style>\n",
       "<table border=\"1\" class=\"dataframe\">\n",
       "  <thead>\n",
       "    <tr style=\"text-align: right;\">\n",
       "      <th></th>\n",
       "      <th>order_id</th>\n",
       "      <th>prod_id</th>\n",
       "      <th>cart-order</th>\n",
       "      <th>reorder</th>\n",
       "      <th>index</th>\n",
       "      <th>prod_name</th>\n",
       "      <th>al_id</th>\n",
       "      <th>dt_id</th>\n",
       "    </tr>\n",
       "  </thead>\n",
       "  <tbody>\n",
       "    <tr>\n",
       "      <th>0</th>\n",
       "      <td>2</td>\n",
       "      <td>33120</td>\n",
       "      <td>1</td>\n",
       "      <td>1</td>\n",
       "      <td>33119</td>\n",
       "      <td>Organic Egg Whites</td>\n",
       "      <td>86</td>\n",
       "      <td>16</td>\n",
       "    </tr>\n",
       "    <tr>\n",
       "      <th>1</th>\n",
       "      <td>390</td>\n",
       "      <td>33120</td>\n",
       "      <td>28</td>\n",
       "      <td>1</td>\n",
       "      <td>33119</td>\n",
       "      <td>Organic Egg Whites</td>\n",
       "      <td>86</td>\n",
       "      <td>16</td>\n",
       "    </tr>\n",
       "    <tr>\n",
       "      <th>2</th>\n",
       "      <td>1097</td>\n",
       "      <td>33120</td>\n",
       "      <td>14</td>\n",
       "      <td>1</td>\n",
       "      <td>33119</td>\n",
       "      <td>Organic Egg Whites</td>\n",
       "      <td>86</td>\n",
       "      <td>16</td>\n",
       "    </tr>\n",
       "    <tr>\n",
       "      <th>3</th>\n",
       "      <td>1887</td>\n",
       "      <td>33120</td>\n",
       "      <td>6</td>\n",
       "      <td>1</td>\n",
       "      <td>33119</td>\n",
       "      <td>Organic Egg Whites</td>\n",
       "      <td>86</td>\n",
       "      <td>16</td>\n",
       "    </tr>\n",
       "    <tr>\n",
       "      <th>4</th>\n",
       "      <td>3304</td>\n",
       "      <td>33120</td>\n",
       "      <td>4</td>\n",
       "      <td>1</td>\n",
       "      <td>33119</td>\n",
       "      <td>Organic Egg Whites</td>\n",
       "      <td>86</td>\n",
       "      <td>16</td>\n",
       "    </tr>\n",
       "  </tbody>\n",
       "</table>\n",
       "</div>"
      ],
      "text/plain": [
       "   order_id  prod_id  cart-order  reorder  index           prod_name  al_id  \\\n",
       "0         2    33120           1        1  33119  Organic Egg Whites     86   \n",
       "1       390    33120          28        1  33119  Organic Egg Whites     86   \n",
       "2      1097    33120          14        1  33119  Organic Egg Whites     86   \n",
       "3      1887    33120           6        1  33119  Organic Egg Whites     86   \n",
       "4      3304    33120           4        1  33119  Organic Egg Whites     86   \n",
       "\n",
       "   dt_id  \n",
       "0     16  \n",
       "1     16  \n",
       "2     16  \n",
       "3     16  \n",
       "4     16  "
      ]
     },
     "execution_count": 161,
     "metadata": {},
     "output_type": "execute_result"
    }
   ],
   "source": [
    "df2.head()"
   ]
  },
  {
   "cell_type": "markdown",
   "metadata": {},
   "source": [
    "#### what is the most common thing people get into the cart FIRST\n",
    "Banana, and other 4 organic food"
   ]
  },
  {
   "cell_type": "code",
   "execution_count": 27,
   "metadata": {},
   "outputs": [
    {
     "name": "stdout",
     "output_type": "stream",
     "text": [
      "                    prod_name  dt_id  al_id  counts\n",
      "14284    Organic Hass Avocado      4     24    2982\n",
      "15305    Organic Strawberries      4     24    3429\n",
      "15641      Organic Whole Milk     16     84    3793\n",
      "1568   Bag of Organic Bananas      4     24    9549\n",
      "1679                   Banana      4     24   13375\n"
     ]
    },
    {
     "data": {
      "text/plain": [
       "count    23719.000000\n",
       "mean        16.432902\n",
       "std        131.174663\n",
       "min          1.000000\n",
       "25%          1.000000\n",
       "50%          3.000000\n",
       "75%          9.000000\n",
       "max      13375.000000\n",
       "Name: counts, dtype: float64"
      ]
     },
     "execution_count": 27,
     "metadata": {},
     "output_type": "execute_result"
    }
   ],
   "source": [
    "tmp2 = df2.cart_order == 1\n",
    "tmp3 = df2[tmp2][['prod_name','index','dt_id','al_id']].groupby(['prod_name','dt_id','al_id'],as_index=False).agg('count').rename(columns={\"index\":\"counts\"}).sort_values(by=['counts'])\n",
    "print(tmp3.tail())\n",
    "tmp3.counts.describe()"
   ]
  },
  {
   "cell_type": "code",
   "execution_count": 28,
   "metadata": {},
   "outputs": [
    {
     "name": "stdout",
     "output_type": "stream",
     "text": [
      "       index                                          prod_name dt_id al_id  \\\n",
      "                                                                              \n",
      "23714  23714  with Sweet & Smoky BBQ Sauce Cheeseburger Sliders     1   129   \n",
      "23715  23715     with Xylitol Cinnamon 18 Sticks Sugar Free Gum    19    46   \n",
      "23716  23716  with Xylitol Island Berry Lime 18 Sticks Sugar...    19    46   \n",
      "23717  23717  with Xylitol Original Flavor 18 Sticks Sugar F...    19    46   \n",
      "23718  23718  with Xylitol Watermelon Twist 18 Sticks Sugar ...    19    46   \n",
      "\n",
      "      counts      \n",
      "       count sum  \n",
      "23714      1   0  \n",
      "23715      6   5  \n",
      "23716      2   2  \n",
      "23717      2   1  \n",
      "23718      1   1  \n"
     ]
    },
    {
     "data": {
      "text/html": [
       "<div>\n",
       "<style scoped>\n",
       "    .dataframe tbody tr th:only-of-type {\n",
       "        vertical-align: middle;\n",
       "    }\n",
       "\n",
       "    .dataframe tbody tr th {\n",
       "        vertical-align: top;\n",
       "    }\n",
       "\n",
       "    .dataframe thead tr th {\n",
       "        text-align: left;\n",
       "    }\n",
       "</style>\n",
       "<table border=\"1\" class=\"dataframe\">\n",
       "  <thead>\n",
       "    <tr>\n",
       "      <th></th>\n",
       "      <th>index</th>\n",
       "      <th>prod_name</th>\n",
       "      <th>dt_id</th>\n",
       "      <th>al_id</th>\n",
       "      <th colspan=\"2\" halign=\"left\">counts</th>\n",
       "    </tr>\n",
       "    <tr>\n",
       "      <th></th>\n",
       "      <th></th>\n",
       "      <th></th>\n",
       "      <th></th>\n",
       "      <th></th>\n",
       "      <th>count</th>\n",
       "      <th>sum</th>\n",
       "    </tr>\n",
       "  </thead>\n",
       "  <tbody>\n",
       "    <tr>\n",
       "      <th>0</th>\n",
       "      <td>0</td>\n",
       "      <td>#2 Coffee Filters</td>\n",
       "      <td>7</td>\n",
       "      <td>26</td>\n",
       "      <td>12</td>\n",
       "      <td>1</td>\n",
       "    </tr>\n",
       "    <tr>\n",
       "      <th>1</th>\n",
       "      <td>1</td>\n",
       "      <td>#2 Mechanical Pencils</td>\n",
       "      <td>17</td>\n",
       "      <td>87</td>\n",
       "      <td>1</td>\n",
       "      <td>0</td>\n",
       "    </tr>\n",
       "    <tr>\n",
       "      <th>2</th>\n",
       "      <td>2</td>\n",
       "      <td>#4 Natural Brown Coffee Filters</td>\n",
       "      <td>7</td>\n",
       "      <td>26</td>\n",
       "      <td>3</td>\n",
       "      <td>0</td>\n",
       "    </tr>\n",
       "    <tr>\n",
       "      <th>3</th>\n",
       "      <td>3</td>\n",
       "      <td>&amp; Go! Hazelnut Spread + Pretzel Sticks</td>\n",
       "      <td>13</td>\n",
       "      <td>88</td>\n",
       "      <td>1</td>\n",
       "      <td>0</td>\n",
       "    </tr>\n",
       "    <tr>\n",
       "      <th>4</th>\n",
       "      <td>4</td>\n",
       "      <td>0% Fat Blueberry Greek Yogurt</td>\n",
       "      <td>16</td>\n",
       "      <td>120</td>\n",
       "      <td>2</td>\n",
       "      <td>0</td>\n",
       "    </tr>\n",
       "  </tbody>\n",
       "</table>\n",
       "</div>"
      ],
      "text/plain": [
       "  index                               prod_name dt_id al_id counts    \n",
       "                                                             count sum\n",
       "0     0                       #2 Coffee Filters     7    26     12   1\n",
       "1     1                   #2 Mechanical Pencils    17    87      1   0\n",
       "2     2         #4 Natural Brown Coffee Filters     7    26      3   0\n",
       "3     3  & Go! Hazelnut Spread + Pretzel Sticks    13    88      1   0\n",
       "4     4           0% Fat Blueberry Greek Yogurt    16   120      2   0"
      ]
     },
     "execution_count": 28,
     "metadata": {},
     "output_type": "execute_result"
    }
   ],
   "source": [
    "\n",
    "tmp3 = df2[tmp2][['prod_name','reorder','dt_id','al_id']].groupby(['prod_name','dt_id','al_id'],as_index=False).agg({'reorder':['count','sum']}).reset_index().rename(columns={\"reorder\":\"counts\"})#.sort_values(by=['counts'])\n",
    "\n",
    "print(tmp3.tail())\n",
    "tmp3.head()"
   ]
  },
  {
   "cell_type": "markdown",
   "metadata": {},
   "source": [
    "#### what is the most common thing people get into the cart in general\n",
    "Banana, and other 4 organic food, a bit different\n",
    "These food has a much higher reorder rate than the reorder rate in general"
   ]
  },
  {
   "cell_type": "code",
   "execution_count": 34,
   "metadata": {},
   "outputs": [
    {
     "name": "stdout",
     "output_type": "stream",
     "text": [
      "                    prod_name  dt_id  al_id  counts\n",
      "26024    Organic Hass Avocado      4     24   25958\n",
      "24694    Organic Baby Spinach      4    123   29380\n",
      "27527    Organic Strawberries      4     24   32203\n",
      "2933   Bag of Organic Bananas      4     24   45699\n",
      "3114                   Banana      4     24   58231\n"
     ]
    },
    {
     "data": {
      "text/plain": [
       "count    42814.000000\n",
       "mean        91.647312\n",
       "std        626.601718\n",
       "min          1.000000\n",
       "25%          3.000000\n",
       "50%         10.000000\n",
       "75%         41.000000\n",
       "max      58231.000000\n",
       "Name: counts, dtype: float64"
      ]
     },
     "execution_count": 34,
     "metadata": {},
     "output_type": "execute_result"
    }
   ],
   "source": [
    "tmp4 = df2[['prod_name','index','dt_id','al_id']].groupby(['prod_name','dt_id','al_id'],as_index=False).agg('count').rename(columns={\"index\":\"counts\"}).sort_values(by=['counts'])\n",
    "print(tmp4.tail())\n",
    "\n",
    "tmp4.counts.describe()"
   ]
  },
  {
   "cell_type": "code",
   "execution_count": 252,
   "metadata": {},
   "outputs": [
    {
     "name": "stdout",
     "output_type": "stream",
     "text": [
      "                     prod_name  cart_order  reorder\n",
      "55195   Bag of Organic Bananas           1        1\n",
      "183842                  Banana           1        1\n",
      "183844                  Banana           1        1\n",
      "183845                  Banana           1        1\n",
      "183846                  Banana           1        1\n",
      "rate of reorder 0.8252632682616758\n",
      "rate of reorder in general 0.5885157404018769\n"
     ]
    }
   ],
   "source": [
    "banana = (df2.prod_name == 'Banana') | (df2.prod_name == 'Bag of Organic Bananas') | (df2.prod_name == 'Organic Whole Milk') | (df2.prod_name == 'Organic Strawberries')\n",
    "tmp5 = df2[banana][['prod_name','cart_order','reorder']].sort_values(by=['cart_order'])\n",
    "print(tmp5.head())\n",
    "print('rate of reorder',tmp5.reorder.sum()/len(tmp5.index))\n",
    "# tmp5.cart_order.describe()\n",
    "print('rate of reorder in general',df2.reorder.sum()/len(df2.index))"
   ]
  },
  {
   "cell_type": "markdown",
   "metadata": {},
   "source": [
    "### what is the most common thing people reorder\n",
    "\n",
    "banana, strawberry, spinach and avocado"
   ]
  },
  {
   "cell_type": "code",
   "execution_count": 32,
   "metadata": {},
   "outputs": [
    {
     "name": "stdout",
     "output_type": "stream",
     "text": [
      "                    prod_name  dt_id  al_id  counts\n",
      "18404    Organic Hass Avocado      4     24   20691\n",
      "17336    Organic Baby Spinach      4    123   22698\n",
      "19618    Organic Strawberries      4     24   25059\n",
      "1972   Bag of Organic Bananas      4     24   37983\n",
      "2108                   Banana      4     24   49260\n"
     ]
    },
    {
     "data": {
      "text/plain": [
       "count    30391.000000\n",
       "mean        75.983383\n",
       "std        558.115887\n",
       "min          1.000000\n",
       "25%          3.000000\n",
       "50%          9.000000\n",
       "75%         33.000000\n",
       "max      49260.000000\n",
       "Name: counts, dtype: float64"
      ]
     },
     "execution_count": 32,
     "metadata": {},
     "output_type": "execute_result"
    }
   ],
   "source": [
    "tmp4 = df2.reorder == 1\n",
    "tmp5 = df2[tmp4][['prod_name','index','dt_id','al_id']].groupby(['prod_name','dt_id','al_id'],as_index=False).agg('count').rename(columns={\"index\":\"counts\"}).sort_values(by=['counts'])\n",
    "print(tmp5.tail())\n",
    "tmp5.counts.describe()"
   ]
  },
  {
   "cell_type": "markdown",
   "metadata": {},
   "source": [
    "### What is the most popular department?\n",
    "Department 4 has the most products sold"
   ]
  },
  {
   "cell_type": "code",
   "execution_count": 37,
   "metadata": {},
   "outputs": [
    {
     "name": "stdout",
     "output_type": "stream",
     "text": [
      "    dt_id   counts\n",
      "0       1   269145\n",
      "6       7   325248\n",
      "18     19   349751\n",
      "15     16   655902\n",
      "3       4  1152333\n"
     ]
    }
   ],
   "source": [
    "tmp6 = df2[['index','dt_id']].groupby(['dt_id'],as_index=False).agg('count').rename(columns={\"index\":\"counts\"}).sort_values(by=['counts'])\n",
    "print(tmp6.tail())"
   ]
  },
  {
   "cell_type": "markdown",
   "metadata": {},
   "source": [
    "### What is the most popular aisle?\n",
    "Aisle 24 has the most products sold"
   ]
  },
  {
   "cell_type": "code",
   "execution_count": 38,
   "metadata": {},
   "outputs": [
    {
     "name": "stdout",
     "output_type": "stream",
     "text": [
      "     al_id  counts\n",
      "20      21  117396\n",
      "119    120  176682\n",
      "122    123  214421\n",
      "82      83  416040\n",
      "23      24  443180\n"
     ]
    }
   ],
   "source": [
    "tmp6 = df2[['index','al_id']].groupby(['al_id'],as_index=False).agg('count').rename(columns={\"index\":\"counts\"}).sort_values(by=['counts'])\n",
    "print(tmp6.tail())"
   ]
  },
  {
   "cell_type": "markdown",
   "metadata": {},
   "source": [
    "### Organic vs Non-organic products\n",
    "9.2% of the available products are organic, however, 24% of the sold products are organic\n",
    "Customers do love organic products!"
   ]
  },
  {
   "cell_type": "code",
   "execution_count": 47,
   "metadata": {},
   "outputs": [
    {
     "name": "stdout",
     "output_type": "stream",
     "text": [
      "   index  prod_id                                          prod_name  al_id  \\\n",
      "0      0        1                         Chocolate Sandwich Cookies     61   \n",
      "1      1        2                                   All-Seasons Salt    104   \n",
      "2      2        3               Robust Golden Unsweetened Oolong Tea     94   \n",
      "3      3        4  Smart Ones Classic Favorites Mini Rigatoni Wit...     38   \n",
      "4      4        5                          Green Chile Anytime Sauce      5   \n",
      "\n",
      "   dt_id  \n",
      "0     19  \n",
      "1     13  \n",
      "2      7  \n",
      "3      1  \n",
      "4     13  \n"
     ]
    }
   ],
   "source": [
    "print(products.head())"
   ]
  },
  {
   "cell_type": "code",
   "execution_count": 71,
   "metadata": {},
   "outputs": [
    {
     "name": "stdout",
     "output_type": "stream",
     "text": [
      "5035\n",
      "49688\n"
     ]
    },
    {
     "data": {
      "text/plain": [
       "0.10133231363709548"
      ]
     },
     "execution_count": 71,
     "metadata": {},
     "output_type": "execute_result"
    }
   ],
   "source": [
    "subs = 'Organic'\n",
    "org= list(filter(lambda x: subs in x, list(products.prod_name.unique())))\n",
    "print(len(org ))\n",
    "print(len(list(products.prod_name.unique())))\n",
    "len(list(filter(lambda x: subs in x, list(products.prod_name.unique()))) ) / (len(org )+ len(list(products.prod_name.unique())) )"
   ]
  },
  {
   "cell_type": "code",
   "execution_count": 73,
   "metadata": {},
   "outputs": [
    {
     "data": {
      "image/png": "[encoded data removed]",
      "text/plain": [
       "<Figure size 432x288 with 1 Axes>"
      ]
     },
     "metadata": {},
     "output_type": "display_data"
    }
   ],
   "source": [
    "# Pie chart, where the slices will be ordered and plotted counter-clockwise:\n",
    "labels = 'Non-Organic', 'Organic'\n",
    "sizes = [len(list(products.prod_name.unique())), len(org)]\n",
    "explode = (0, 0.1)  # only \"explode\" the 2nd slice \n",
    "\n",
    "fig1, ax1 = plt.subplots()\n",
    "ax1.pie(sizes, explode=explode, labels=labels, autopct='%1.1f%%',\n",
    "        shadow=True, startangle=90)\n",
    "ax1.axis('equal')  # Equal aspect ratio ensures that pie is drawn as a circle.\n",
    "\n",
    "plt.show()"
   ]
  },
  {
   "cell_type": "code",
   "execution_count": 75,
   "metadata": {},
   "outputs": [
    {
     "data": {
      "text/plain": [
       "0.23976912067496028"
      ]
     },
     "execution_count": 75,
     "metadata": {},
     "output_type": "execute_result"
    }
   ],
   "source": [
    "pro1 = np.where(df2.prod_name.isin(org))\n",
    "df2.iloc[pro1].shape[0] / (df2.shape[0] + df2.iloc[pro1].shape[0])"
   ]
  },
  {
   "cell_type": "code",
   "execution_count": 74,
   "metadata": {},
   "outputs": [
    {
     "data": {
      "image/png": "[encoded data removed]",
      "text/plain": [
       "<Figure size 432x288 with 1 Axes>"
      ]
     },
     "metadata": {},
     "output_type": "display_data"
    }
   ],
   "source": [
    "# Pie chart, where the slices will be ordered and plotted counter-clockwise:\n",
    "labels = 'Non-Organic', 'Organic'\n",
    "sizes = [df2.shape[0], df2.iloc[pro1].shape[0]]\n",
    "explode = (0, 0.1)  # only \"explode\" the 2nd slice \n",
    "\n",
    "fig1, ax1 = plt.subplots()\n",
    "ax1.pie(sizes, explode=explode, labels=labels, autopct='%1.1f%%',\n",
    "        shadow=True, startangle=90)\n",
    "ax1.axis('equal')  # Equal aspect ratio ensures that pie is drawn as a circle.\n",
    "\n",
    "plt.show()"
   ]
  },
  {
   "cell_type": "code",
   "execution_count": null,
   "metadata": {},
   "outputs": [],
   "source": []
  }
 ],
 "metadata": {
  "kernelspec": {
   "display_name": "Python 3",
   "language": "python",
   "name": "python3"
  },
  "language_info": {
   "codemirror_mode": {
    "name": "ipython",
    "version": 3
   },
   "file_extension": ".py",
   "mimetype": "text/x-python",
   "name": "python",
   "nbconvert_exporter": "python",
   "pygments_lexer": "ipython3",
   "version": "3.6.8"
  }
 },
 "nbformat": 4,
 "nbformat_minor": 2
}
